{
 "cells": [
  {
   "cell_type": "markdown",
   "metadata": {},
   "source": [
    "# Create a simple Endpoint for TabPy"
   ]
  },
  {
   "cell_type": "code",
   "execution_count": 1,
   "metadata": {},
   "outputs": [],
   "source": [
    "# Create a function to calculate Profit Ratio based on Profit and Sales dollars\n",
    "def getProfitRatio(Sales_dollars, Profit_dollars):\n",
    "    import numpy as np\n",
    "    a1 = np.array(Sales_dollars) # Sales\n",
    "    a2 = np.array(Profit_dollars) # Profit\n",
    "    Res = a2/a1 # element-wise operation Profit / Sales\n",
    "    return list(Res)\n"
   ]
  },
  {
   "cell_type": "code",
   "execution_count": 2,
   "metadata": {},
   "outputs": [
    {
     "data": {
      "text/plain": [
       "[0.05, 0.06666666666666667]"
      ]
     },
     "execution_count": 2,
     "metadata": {},
     "output_type": "execute_result"
    }
   ],
   "source": [
    "# test the function\n",
    "arg1 = [200, 300]\n",
    "arg2 = [10,20]\n",
    "res = getProfitRatio(arg1, arg2)\n",
    "res\n"
   ]
  },
  {
   "cell_type": "code",
   "execution_count": 3,
   "metadata": {},
   "outputs": [],
   "source": [
    "from tabpy.tabpy_tools.client import Client\n",
    "\n",
    "connection = Client('http://localhost:9004/')"
   ]
  },
  {
   "cell_type": "code",
   "execution_count": 4,
   "metadata": {},
   "outputs": [],
   "source": [
    "# Publish the getProfitRatio function to TabPy server \n",
    "connection.deploy('CalculationsDemo',\n",
    "                  getProfitRatio,\n",
    "                  'Returns Profit Ratio calculation')"
   ]
  }
 ],
 "metadata": {
  "kernelspec": {
   "display_name": "Python 3",
   "language": "python",
   "name": "python3"
  },
  "language_info": {
   "codemirror_mode": {
    "name": "ipython",
    "version": 3
   },
   "file_extension": ".py",
   "mimetype": "text/x-python",
   "name": "python",
   "nbconvert_exporter": "python",
   "pygments_lexer": "ipython3",
   "version": "3.7.6"
  }
 },
 "nbformat": 4,
 "nbformat_minor": 1
}
